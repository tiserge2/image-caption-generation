{
 "cells": [
  {
   "cell_type": "code",
   "execution_count": null,
   "id": "9bc91c3a-24b9-49db-9726-676d25577f95",
   "metadata": {},
   "outputs": [],
   "source": [
    "import sys \n",
    "import joblib\n",
    "sys.path.insert(0, r\"/home/sagemaker-user/rscid/\")\n",
    "\n",
    "root = r\"/home/sagemaker-user/rscid/\"\n",
    "tokens_path = root + r\"data/processed/tokenizer.p\"\n",
    "tokenizer = joblib.load(tokens_path, \"rb\")\n",
    "word_indexer = tokenizer.word_index\n",
    "\n",
    "print(tokenizer.to_json())"
   ]
  },
  {
   "cell_type": "code",
   "execution_count": null,
   "id": "d5c0e835-a4fa-4504-ac75-9616a82e0b5d",
   "metadata": {},
   "outputs": [],
   "source": []
  }
 ],
 "metadata": {
  "kernelspec": {
   "display_name": "Python 3 (ipykernel)",
   "language": "python",
   "name": "python3"
  },
  "language_info": {
   "codemirror_mode": {
    "name": "ipython",
    "version": 3
   },
   "file_extension": ".py",
   "mimetype": "text/x-python",
   "name": "python",
   "nbconvert_exporter": "python",
   "pygments_lexer": "ipython3",
   "version": "3.10.13"
  }
 },
 "nbformat": 4,
 "nbformat_minor": 5
}
