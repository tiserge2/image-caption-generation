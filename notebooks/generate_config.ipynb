{
 "cells": [
  {
   "cell_type": "code",
   "execution_count": 1,
   "id": "a17b4256-15c0-4b23-acd9-a579929d279c",
   "metadata": {},
   "outputs": [
    {
     "name": "stdout",
     "output_type": "stream",
     "text": [
      "Config created: 3\n"
     ]
    }
   ],
   "source": [
    "import json\n",
    "\n",
    "def generate_all_configs():\n",
    "    configs = []\n",
    "\n",
    "    architectures = ['resnet18']\n",
    "    epochs = [20]\n",
    "    lrs = [0.00001, 0.000025, 0.000257]\n",
    "    train_splits = [0.8]\n",
    "    optimizers = [\"SGD\"]\n",
    "    \n",
    "    for architecture in architectures:\n",
    "        for epoch in epochs:\n",
    "            for lr in lrs:\n",
    "                for train_split in train_splits:\n",
    "                    for optimizer in optimizers:\n",
    "                        config = {\n",
    "                            \"architecture\": architecture,\n",
    "                            \"freeze_weights\": False,\n",
    "                            \"pretrained\": True,\n",
    "                            \"epochs\": epoch,\n",
    "                            \"lr\": lr,\n",
    "                            \"use_cuda\": True,\n",
    "                            \"train_split\": train_split,\n",
    "                            \"show_loss_plot\": True,\n",
    "                            \"show_example\": True,\n",
    "                            \"optimizer\": optimizer\n",
    "                        }\n",
    "                        configs.append(config)\n",
    "\n",
    "    return configs\n",
    "\n",
    "def generate_config_json():\n",
    "    configs = generate_all_configs()\n",
    "    return configs\n",
    "\n",
    "# Generate configuration JSON covering all possible combinations\n",
    "config_json = generate_config_json()\n",
    "print(f\"Config created: {len(config_json)}\")\n",
    "\n",
    "with open(\"./src/configuration/config.json\", \"w\") as f:\n",
    "    json.dump(config_json, f, indent=4)\n"
   ]
  },
  {
   "cell_type": "code",
   "execution_count": null,
   "id": "a71cf223-41cd-4cf2-9782-477d37215ed5",
   "metadata": {},
   "outputs": [],
   "source": []
  }
 ],
 "metadata": {
  "kernelspec": {
   "display_name": "Python 3 (ipykernel)",
   "language": "python",
   "name": "python3"
  },
  "language_info": {
   "codemirror_mode": {
    "name": "ipython",
    "version": 3
   },
   "file_extension": ".py",
   "mimetype": "text/x-python",
   "name": "python",
   "nbconvert_exporter": "python",
   "pygments_lexer": "ipython3",
   "version": "3.10.13"
  }
 },
 "nbformat": 4,
 "nbformat_minor": 5
}
